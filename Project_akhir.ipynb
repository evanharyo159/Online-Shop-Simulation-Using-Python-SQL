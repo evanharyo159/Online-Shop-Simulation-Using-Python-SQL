{
  "cells": [
    {
      "cell_type": "code",
      "execution_count": null,
      "metadata": {
        "id": "22_0tWFJabdb"
      },
      "outputs": [],
      "source": [
        "import sqlite3\n",
        "import pandas as pd\n",
        "import random as rd\n",
        "import datetime\n",
        "from datetime import datetime,timedelta,date\n",
        "import numpy as np\n",
        "con = sqlite3.connect('olshop.db')\n",
        "c = con.cursor()\n"
      ]
    },
    {
      "cell_type": "code",
      "execution_count": null,
      "metadata": {
        "colab": {
          "base_uri": "https://localhost:8080/"
        },
        "id": "OE3Jrdueb9DU",
        "outputId": "bba1cac1-053f-41ad-e9e9-597a799a7289"
      },
      "outputs": [
        {
          "output_type": "execute_result",
          "data": {
            "text/plain": [
              "<sqlite3.Cursor at 0x7f00d4ca6030>"
            ]
          },
          "metadata": {},
          "execution_count": 5
        }
      ],
      "source": [
        "c.execute(\"\"\"CREATE TABLE Customers (\n",
        "customer_ID INTEGER,\n",
        "customer_number INTEGER,\n",
        "customer_name VARCHAR(50),\n",
        "customer_email VARCHAR(50),\n",
        "customer_gender VARCHAR(10),\n",
        "customer_address VARCHAR(100)\n",
        ")\n",
        "\n",
        "\"\"\")"
      ]
    },
    {
      "cell_type": "code",
      "execution_count": null,
      "metadata": {
        "colab": {
          "base_uri": "https://localhost:8080/"
        },
        "id": "BpHshK1iiFU1",
        "outputId": "c6ea2bbc-0fb1-438b-ba45-09e396fe55f1"
      },
      "outputs": [
        {
          "output_type": "execute_result",
          "data": {
            "text/plain": [
              "<sqlite3.Cursor at 0x7f00d4ca6030>"
            ]
          },
          "metadata": {},
          "execution_count": 6
        }
      ],
      "source": [
        "c.execute(\"\"\"CREATE TABLE Seller (\n",
        "seller_ID INTEGER,\n",
        "seller_number INTEGER,\n",
        "seller_name VARCHAR(50) ,\n",
        "seller_address VARCHAR(100)\n",
        "\n",
        ")\n",
        "\n",
        "\"\"\")"
      ]
    },
    {
      "cell_type": "code",
      "execution_count": null,
      "metadata": {
        "colab": {
          "base_uri": "https://localhost:8080/"
        },
        "id": "Ai0-aut7iWul",
        "outputId": "192f3a78-0555-494c-83d6-7e46e9d7acf9"
      },
      "outputs": [
        {
          "output_type": "execute_result",
          "data": {
            "text/plain": [
              "<sqlite3.Cursor at 0x7f00d4ca6030>"
            ]
          },
          "metadata": {},
          "execution_count": 7
        }
      ],
      "source": [
        "c.execute(\"\"\"CREATE TABLE Product (\n",
        "product_ID INTEGER,\n",
        "brand_ID INTEGER,\n",
        "seller_ID INTEGER,\n",
        "product_name VARCHAR(50),\n",
        "product_price INTEGER\n",
        "\n",
        ")\n",
        "\n",
        "\"\"\")"
      ]
    },
    {
      "cell_type": "code",
      "execution_count": null,
      "metadata": {
        "colab": {
          "base_uri": "https://localhost:8080/"
        },
        "id": "SBFn5zfbiy1s",
        "outputId": "617d0645-8b86-4cb4-cae8-377c1a525deb"
      },
      "outputs": [
        {
          "output_type": "execute_result",
          "data": {
            "text/plain": [
              "<sqlite3.Cursor at 0x7f00d4ca6030>"
            ]
          },
          "metadata": {},
          "execution_count": 8
        }
      ],
      "source": [
        "c.execute(\"\"\"CREATE TABLE Cart (\n",
        "cart_ID INTEGER,\n",
        "customer_ID INTEGER,\n",
        "product_ID INTEGER,\n",
        "number_of_product INTEGER\n",
        "\n",
        ")\n",
        "\n",
        "\"\"\")"
      ]
    },
    {
      "cell_type": "code",
      "execution_count": null,
      "metadata": {
        "colab": {
          "base_uri": "https://localhost:8080/"
        },
        "id": "vHLxPBshjznf",
        "outputId": "27d0dcf3-184e-4259-880b-5923d7b577e2"
      },
      "outputs": [
        {
          "output_type": "execute_result",
          "data": {
            "text/plain": [
              "<sqlite3.Cursor at 0x7f00d4ca6030>"
            ]
          },
          "metadata": {},
          "execution_count": 9
        }
      ],
      "source": [
        "c.execute(\"\"\"CREATE TABLE Payment (\n",
        "payment_ID INTEGER,\n",
        "payment_date DATE,\n",
        "payment_amount FLOAT,\n",
        "payment_methods VARCHAR(20),\n",
        "seller_ID INTEGER,\n",
        "cart_ID INTEGER,\n",
        "payment_status STRING\n",
        "\n",
        ")\n",
        "\n",
        "\"\"\")"
      ]
    },
    {
      "cell_type": "code",
      "execution_count": null,
      "metadata": {
        "colab": {
          "base_uri": "https://localhost:8080/"
        },
        "id": "ZoBgb6CckS8_",
        "outputId": "b40fd252-5cf4-4888-ad96-af157be57467"
      },
      "outputs": [
        {
          "output_type": "execute_result",
          "data": {
            "text/plain": [
              "<sqlite3.Cursor at 0x7f00d4ca6030>"
            ]
          },
          "metadata": {},
          "execution_count": 10
        }
      ],
      "source": [
        "c.execute(\"\"\"CREATE TABLE Shipping (\n",
        "shipping_ID INTEGER,\n",
        "shipping_duration TIME,\n",
        "shipping_date DATE,\n",
        "shipping_price FLOAT,\n",
        "seller_ID INTEGER,\n",
        "customer_ID INTEGER\n",
        "\n",
        ")\n",
        "\n",
        "\"\"\")"
      ]
    },
    {
      "cell_type": "code",
      "execution_count": null,
      "metadata": {
        "colab": {
          "base_uri": "https://localhost:8080/"
        },
        "id": "f3udtDQ2kyIX",
        "outputId": "4b39b710-7eda-4382-9bc5-46250dfdb3cd"
      },
      "outputs": [
        {
          "output_type": "execute_result",
          "data": {
            "text/plain": [
              "<sqlite3.Cursor at 0x7f00d4ca6030>"
            ]
          },
          "metadata": {},
          "execution_count": 11
        }
      ],
      "source": [
        "c.execute(\"\"\"CREATE TABLE Brand (\n",
        "brand_ID INTEGER,\n",
        "brand_name VARCHAR(20),\n",
        "category_ID INTEGER\n",
        "\n",
        ")\n",
        "\n",
        "\"\"\")"
      ]
    },
    {
      "cell_type": "code",
      "execution_count": null,
      "metadata": {
        "colab": {
          "base_uri": "https://localhost:8080/"
        },
        "id": "hvQRwrpdk_Bc",
        "outputId": "94f9b64a-ffab-46bb-a26f-9a4149257a80"
      },
      "outputs": [
        {
          "output_type": "execute_result",
          "data": {
            "text/plain": [
              "<sqlite3.Cursor at 0x7f00d4ca6030>"
            ]
          },
          "metadata": {},
          "execution_count": 12
        }
      ],
      "source": [
        "c.execute(\"\"\"CREATE TABLE Category (\n",
        "category_ID INTEGER,\n",
        "category_name VARCHAR(20)\n",
        "\n",
        ")\n",
        "\n",
        "\"\"\")"
      ]
    },
    {
      "cell_type": "code",
      "execution_count": null,
      "metadata": {
        "colab": {
          "base_uri": "https://localhost:8080/"
        },
        "id": "1HX_5cu30Rgq",
        "outputId": "35b495c3-84cf-4d3a-cc92-ba4ad203dee0"
      },
      "outputs": [
        {
          "output_type": "execute_result",
          "data": {
            "text/plain": [
              "<sqlite3.Cursor at 0x7f00d4ca6030>"
            ]
          },
          "metadata": {},
          "execution_count": 13
        }
      ],
      "source": [
        "c.execute(\"\"\"CREATE TABLE Transactions (\n",
        "customer_ID INTEGER,\n",
        "seller_ID INTEGER,\n",
        "product_ID INTEGER,\n",
        "cart_id INTEGER,\n",
        "payment_ID INTEGER,\n",
        "shipping_ID INTEGER,\n",
        "payment_amount FLOAT\n",
        ")\n",
        "\n",
        "\"\"\")"
      ]
    },
    {
      "cell_type": "code",
      "execution_count": null,
      "metadata": {
        "id": "YonkPvD1zOHT"
      },
      "outputs": [],
      "source": [
        "insertcustomer = 'INSERT INTO Customers VALUES (?,?,?,?,?,?)'\n",
        "insertcart = 'INSERT INTO Cart VALUES (?,?,?,?)'\n",
        "insertseller = 'INSERT INTO Seller VALUES (?,?,?,?)'\n",
        "insertproduct = 'INSERT INTO Product VALUES (?,?,?,?,?)'\n",
        "insertbrand = 'INSERT INTO Brand VALUES (?,?,?)'\n",
        "insertcat = 'INSERT INTO Category VALUES (?,?)'\n",
        "insertpay = 'INSERT INTO Payment VALUES (?,?,?,?,?,?,?)'\n",
        "insertship = 'INSERT INTO Shipping VALUES (?,?,?,?,?, ?)'\n",
        "inserttrans = 'INSERT INTO Transactions VALUES (?,?,?,?,?,?,?)'"
      ]
    },
    {
      "cell_type": "code",
      "execution_count": null,
      "metadata": {
        "id": "yHSbhyfJpGo1"
      },
      "outputs": [],
      "source": [
        "manycustomer = [\n",
        "    ('202205', '081196284676', 'Budi', 'budilaksono@database.com', 'M','jl. Kejaksaan no. 18, Kota Bandung'),\n",
        "    ('202208','082157398423', 'Anto', 'antoo71@database.com', 'M','jl. Barito Utara no. 07, Jakarta Selatan'),\n",
        "    ('202271','081957283645', 'Ahmad', 'ahmadkece1@database.com', 'M','jl. Selat Sunda no. 9, Jakarta Timur')\n",
        "]\n",
        "\n",
        "manyseller = [\n",
        "    ('101087','082166483534', 'Ruby Fashion', 'Jl. Tambora no. 22, Jakarta Barat'),\n",
        "    ('101093','087128966412', 'Cartmax', 'Jl. Boulevard Gading Serpong no. 86, Tangerang'),\n",
        "    ('101064','085215353101', 'The Gallery', 'Jl. Margonda Raya no. 56, Depok')\n",
        "]\n",
        "\n",
        "\n",
        "manyproduct = [\n",
        "    ('303165','404673','101087', 'Hoodie', '499000'),\n",
        "    ('303169','404354' , '101093', 'Bola Voli', '85000'),\n",
        "    ('303098', '404456', '101064', 'Paper Instax', '95000')\n",
        "]\n",
        "\n",
        "manybrand = [\n",
        "    ('404673', 'DieTie Hoods', '505016'),\n",
        "    ('404354', 'TokoSportz', '505388'),\n",
        "    ('404456', 'Paperlicious', '505786')\n",
        "]\n",
        "\n",
        "manycategory = [\n",
        "    ('505016', 'Fashion'),\n",
        "    ('505388', 'Sport'),\n",
        "    ('505786', 'Camera')\n",
        "]\n",
        "\n",
        "manycart = [\n",
        "    ('606834', '202205', '303165', '3'),\n",
        "    ('606221', '202208', '303169', '5'),\n",
        "    ('606989', '202271', '303098', '2')\n",
        "]\n",
        "\n",
        "manypayment = [\n",
        "    ('707324', '17/05/2022', '1515000', 'Credit', '101087', '606834','Accepted'),\n",
        "    ('707548', '16/05/2022', '425000', 'Debit', '101093', '606221', 'Accepted'),\n",
        "    ('707915', '18/05/2022', '190000', 'E-Wallet','101064','606989','Accepted')\n",
        "]\n",
        "\n",
        "manyshipping = [\n",
        "    ('808744', '3 hari', '18/05/2022', '18000','101087','202205'),\n",
        "    ('808564', '3 hari', '18/05/2022', '20000','101093','202208'),\n",
        "    ('808536', '2 hari', '19/05/2022', '24000','101064','202271' )\n",
        "]\n",
        "\n",
        "manytransaction = [\n",
        "    ('202205', '101087', '303165', '606834', '707324', '808744', '1515000'),\n",
        "    ('202208', '101093', '303169', '606221', '707548', '808564', '425000'),\n",
        "    ('202271', '101064', '303098', '606989', '707915', '808536', '190000')\n",
        "]\n",
        "\n"
      ]
    },
    {
      "cell_type": "code",
      "execution_count": null,
      "metadata": {
        "colab": {
          "base_uri": "https://localhost:8080/"
        },
        "id": "XsDrfOhN6ACL",
        "outputId": "387b380f-e142-4bc3-e1a7-128e5bdaabb0"
      },
      "outputs": [
        {
          "output_type": "execute_result",
          "data": {
            "text/plain": [
              "<sqlite3.Cursor at 0x7f00d4ca6030>"
            ]
          },
          "metadata": {},
          "execution_count": 16
        }
      ],
      "source": [
        "c.executemany('INSERT INTO Customers VALUES (?,?,?,?,?,?)', manycustomer)\n",
        "c.executemany('INSERT INTO Cart VALUES (?,?,?,?)', manycart)\n",
        "c.executemany('INSERT INTO Seller VALUES (?,?,?,?)', manyseller)"
      ]
    },
    {
      "cell_type": "code",
      "execution_count": null,
      "metadata": {
        "colab": {
          "base_uri": "https://localhost:8080/"
        },
        "id": "ZRBsv7gf6C0O",
        "outputId": "b1f694b2-cf64-4c78-b653-13eed7f8456d"
      },
      "outputs": [
        {
          "output_type": "execute_result",
          "data": {
            "text/plain": [
              "<sqlite3.Cursor at 0x7f00d4ca6030>"
            ]
          },
          "metadata": {},
          "execution_count": 17
        }
      ],
      "source": [
        "c.executemany('INSERT INTO Brand VALUES (?,?,?)', manybrand)\n",
        "c.executemany('INSERT INTO Category VALUES (?,?)', manycategory)\n",
        "c.executemany('INSERT INTO Payment VALUES (?,?,?,?,?,?,?)', manypayment)\n",
        "c.executemany('INSERT INTO Shipping VALUES (?,?,?,?,?, ?)', manyshipping)\n",
        "c.executemany('INSERT INTO Transactions VALUES (?,?,?,?,?,?,?)', manytransaction)"
      ]
    },
    {
      "cell_type": "code",
      "execution_count": null,
      "metadata": {
        "colab": {
          "base_uri": "https://localhost:8080/"
        },
        "id": "HkhelpdY5YTS",
        "outputId": "f87c4fe8-5dc9-4f82-941d-7a707015dc64"
      },
      "outputs": [
        {
          "output_type": "execute_result",
          "data": {
            "text/plain": [
              "<sqlite3.Cursor at 0x7f00d4ca6030>"
            ]
          },
          "metadata": {},
          "execution_count": 18
        }
      ],
      "source": [
        "c.executemany('INSERT INTO Product VALUES (?,?,?,?,?)', manyproduct)"
      ]
    },
    {
      "cell_type": "code",
      "execution_count": null,
      "metadata": {
        "colab": {
          "base_uri": "https://localhost:8080/",
          "height": 439
        },
        "id": "OjY3AC16zMKL",
        "outputId": "bb363c04-5154-4278-eeeb-631496c61edc"
      },
      "outputs": [
        {
          "name": "stdout",
          "output_type": "stream",
          "text": [
            "   product_ID  brand_ID  seller_ID  product_name  product_price\n",
            "0      303165    404673     101087        Hoodie         499000\n",
            "1      303169    404354     101093     Bola Voli          85000\n",
            "2      303098    404456     101064  Paper Instax          95000\n",
            "Apa tujuan anda disini? (Pengguna termasuk seller customer (0)/Data Analyst(masukkan kode perusahaan)): 0\n",
            "Apakah anda di sini sebagai customer (0) atau seller (1)?: 1\n",
            "Enter your full name: abc\n",
            "Enter your phone number: 0813\n",
            "Enter your address: Jkt Barat\n"
          ]
        },
        {
          "output_type": "error",
          "ename": "NameError",
          "evalue": "ignored",
          "traceback": [
            "\u001b[0;31m---------------------------------------------------------------------------\u001b[0m",
            "\u001b[0;31mNameError\u001b[0m                                 Traceback (most recent call last)",
            "\u001b[0;32m<ipython-input-3-aefc261f06e3>\u001b[0m in \u001b[0;36m<cell line: 4>\u001b[0;34m()\u001b[0m\n\u001b[1;32m     26\u001b[0m         \u001b[0msnumber\u001b[0m \u001b[0;34m=\u001b[0m \u001b[0mint\u001b[0m\u001b[0;34m(\u001b[0m\u001b[0minput\u001b[0m\u001b[0;34m(\u001b[0m\u001b[0;34m\"Enter your phone number: \"\u001b[0m\u001b[0;34m)\u001b[0m\u001b[0;34m)\u001b[0m\u001b[0;34m\u001b[0m\u001b[0;34m\u001b[0m\u001b[0m\n\u001b[1;32m     27\u001b[0m         \u001b[0msaddress\u001b[0m \u001b[0;34m=\u001b[0m \u001b[0mstr\u001b[0m\u001b[0;34m(\u001b[0m\u001b[0minput\u001b[0m\u001b[0;34m(\u001b[0m\u001b[0;34m\"Enter your address: \"\u001b[0m\u001b[0;34m)\u001b[0m\u001b[0;34m)\u001b[0m\u001b[0;34m\u001b[0m\u001b[0;34m\u001b[0m\u001b[0m\n\u001b[0;32m---> 28\u001b[0;31m         \u001b[0mc\u001b[0m\u001b[0;34m.\u001b[0m\u001b[0mexecute\u001b[0m\u001b[0;34m(\u001b[0m\u001b[0minsertseller\u001b[0m\u001b[0;34m,\u001b[0m\u001b[0;34m(\u001b[0m\u001b[0msid\u001b[0m\u001b[0;34m,\u001b[0m \u001b[0msname\u001b[0m\u001b[0;34m,\u001b[0m \u001b[0msnumber\u001b[0m\u001b[0;34m,\u001b[0m \u001b[0msaddress\u001b[0m\u001b[0;34m)\u001b[0m\u001b[0;34m)\u001b[0m\u001b[0;34m\u001b[0m\u001b[0;34m\u001b[0m\u001b[0m\n\u001b[0m\u001b[1;32m     29\u001b[0m \u001b[0;34m\u001b[0m\u001b[0m\n\u001b[1;32m     30\u001b[0m         \u001b[0mjualga\u001b[0m \u001b[0;34m=\u001b[0m \u001b[0mint\u001b[0m\u001b[0;34m(\u001b[0m\u001b[0minput\u001b[0m\u001b[0;34m(\u001b[0m\u001b[0;34m\"Apakah anda akan menjual barang di aplikasi? YA(0)/TIDAK(1): \"\u001b[0m\u001b[0;34m)\u001b[0m\u001b[0;34m)\u001b[0m\u001b[0;34m\u001b[0m\u001b[0;34m\u001b[0m\u001b[0m\n",
            "\u001b[0;31mNameError\u001b[0m: name 'insertseller' is not defined"
          ]
        }
      ],
      "source": [
        "#FINAL TEST 1 FINALLLLEEEEE\n",
        "\n",
        "while True:\n",
        "    print(pd.read_sql_query('SELECT*FROM Product', con))\n",
        "    posisi = int(input(\"Apa tujuan anda disini? (Pengguna termasuk seller customer (0)/Data Analyst(masukkan kode perusahaan)): \"))\n",
        "    if posisi == 5555:\n",
        "        print(pd.read_sql_query('SELECT*FROM Customers', con))\n",
        "        print(pd.read_sql_query('SELECT*FROM Seller', con))\n",
        "        print(pd.read_sql_query('SELECT*FROM Product', con))\n",
        "        print(pd.read_sql_query('SELECT*FROM Cart', con))\n",
        "        print(pd.read_sql_query('SELECT*FROM Payment', con))\n",
        "        print(pd.read_sql_query('SELECT*FROM Shipping', con))\n",
        "        print(pd.read_sql_query('SELECT*FROM Brand', con))\n",
        "        print(pd.read_sql_query('SELECT*FROM Category', con))\n",
        "        print(pd.read_sql_query('SELECT*FROM Transactions', con))\n",
        "        con.commit()\n",
        "        con.close()\n",
        "        break\n",
        "\n",
        "\n",
        "    sob = int(input(\"Apakah anda di sini sebagai customer (0) atau seller (1)?: \"))\n",
        "    #input kalo dia seller\n",
        "    if sob == 1:\n",
        "        sid = rd.randint(101000,101999) #seller id\n",
        "        sname = str(input(\"Enter your full name: \"))\n",
        "        snumber = int(input(\"Enter your phone number: \"))\n",
        "        saddress = str(input(\"Enter your address: \"))\n",
        "        c.execute(insertseller,(sid, sname, snumber, saddress))\n",
        "\n",
        "        jualga = int(input(\"Apakah anda akan menjual barang di aplikasi? YA(0)/TIDAK(1): \"))\n",
        "        if jualga == 1:\n",
        "            print(\"Terimakasih sudah mendaftarkan untuk menjadi seller di aplikasi kami!\")\n",
        "        if jualga == 0:\n",
        "            print(\"Masukkan data produk yang ingin kamu jual!\")\n",
        "            pid = rd.randint(303000,303999) #product id\n",
        "            bid = rd.randint(404000,404999) #brand id\n",
        "            #sid\n",
        "            bname = str(input(\"Apa nama merk(brand) dari produk yang akan anda jual?: \"))\n",
        "            catid = rd.randint(505000,505999)\n",
        "            catname = str(input(\"Produk yang anda jual termasuk dalam kategori?: \"))\n",
        "            pname = str(input(\"Apa nama produk yang ingin anda jual?: \"))\n",
        "            pprice = int(input(\"Berapa harga barang yang anda jual? (masukkan angka saja ex= 20000): \"))\n",
        "            c.execute(insertproduct,(pid, bid, sid, pname, pprice))\n",
        "            c.execute(insertbrand,(bid, bname, catid))\n",
        "            c.execute(insertcat,(catid, catname))\n",
        "\n",
        "\n",
        "\n",
        "        #input kalo dia customer\n",
        "    if sob == 0:\n",
        "        print(\"Apakah anda ingin membeli barang?\")\n",
        "        keputusan = int(input(\"Masukkan angka 0 jika anda tidak ingin membeli barang dan 1 jika anda ingin membeli barang: \"))\n",
        "        if keputusan==0:\n",
        "            print(\"Terimakasih sudah melihat produk di aplikasi kami!\")\n",
        "        if keputusan==1:\n",
        "            cid = rd.randint(202000,202999)#customer id\n",
        "            caid = rd.randint(606000,606999)#cart id\n",
        "            print(\"Silahkan masukkan data diri anda!\")\n",
        "            cname = str(input(\"Enter your full name: \"))\n",
        "            cnumber = int(input(\"Enter your phone number: \"))\n",
        "            cemail = str(input(\"Enter your email address: \"))\n",
        "            cgender = str(input(\"Enter your gender, M/F: \"))\n",
        "            caddress = str(input(\"Enter your shipping address: \"))\n",
        "            c.execute(insertcustomer,(cid, cname, cnumber, cemail, cgender, caddress))\n",
        "\n",
        "            x=0\n",
        "\n",
        "            jum_prod = int(input(\"Apakah anda ingin menambahkan produk ke keranjang?(Ya=0/Tidak=1): \"))\n",
        "            if jum_prod==0:\n",
        "                banyak = int(input(\"Masukkan banyak produk yang ingin anda beli!: \"))\n",
        "                while x < banyak:\n",
        "                    print(\"Silahkan masukkan data produk yang ingin anda beli\")\n",
        "                    x = x+1 #jumlah produk\n",
        "                    prodidcar = int(input(\"Masukkan product id dari produk yang ingin anda beli!: \"))\n",
        "                    prodselid = int(input(\"Masukkan seller id dari produk yang ingin anda beli!: \"))\n",
        "                c.execute(insertcart,(caid, cid, prodidcar, x))\n",
        "                print(\"Mari lanjut ke pembayaran!\")\n",
        "                currentTimeDate = datetime.now() + timedelta(days=1)\n",
        "                currentTime = currentTimeDate.strftime('%Y-%m-%d')\n",
        "                #payment\n",
        "                payid = rd.randint(707000,707999)\n",
        "                shipid = rd.randint(808000,808999)\n",
        "                payam = int(input(\"Masukkan nominal jumlah belanja anda dalam rupiah (ex: 100000): \"))\n",
        "                paymet = str(input(\"Metode pembayaran apa yang ingin anda gunakan?(debit, credit, e wallet): \"))\n",
        "                paydate= date.today()\n",
        "                shipdate = currentTime\n",
        "                paystat = print('Your payment Accepted')\n",
        "                paystatus = \"Accepted\"\n",
        "                pilship = int(input(\"Pilih harga dan durasi shipping yang anda mau, (0) untuk durasi 5 hari harga Rp.10,000 atau (1) untuk durasi 1 hari harga Rp,30,000: \"))\n",
        "                if pilship == 0:\n",
        "                    shipdur = 5\n",
        "                    shippri = 10000\n",
        "                    c.execute(insertpay,(payid, paydate, payam, paymet, prodselid, caid, paystatus))\n",
        "                    c.execute(insertship,(shipid, shipdur, shipdate, shippri, prodselid, cid))\n",
        "                    c.execute(inserttrans,(cid, prodselid, prodidcar,caid, payid, shipid, payam))\n",
        "\n",
        "                if pilship == 1:\n",
        "                    shipdur = 1\n",
        "                    shippri = 30000\n",
        "                    c.execute(insertpay,(payid, paydate, payam, paymet, prodselid, caid, paystatus))\n",
        "                    c.execute(insertship,(shipid, shipdur, shipdate, shippri, prodselid, cid))\n",
        "                    c.execute(inserttrans,(cid, prodselid, prodidcar,caid, payid, shipid, payam))\n",
        "            else:\n",
        "                print(\"Terimakasih telah menjadi bagian dari customer aplikasi kami!\")"
      ]
    },
    {
      "cell_type": "code",
      "execution_count": null,
      "metadata": {
        "id": "Hd1n2qHA3tps"
      },
      "outputs": [],
      "source": [
        "# FINAL TEST 1 FINALLLLEEEEE\n",
        "\n",
        "while True:\n",
        "    print(pd.read_sql_query('SELECT*FROM Product', con))\n",
        "    posisi = int(input(\"What is your purpose here? (User includes seller or customer (0)/Data Analyst (enter company code)): \"))\n",
        "    if posisi == 5555:\n",
        "        print(pd.read_sql_query('SELECT*FROM Customers', con))\n",
        "        print(pd.read_sql_query('SELECT*FROM Seller', con))\n",
        "        print(pd.read_sql_query('SELECT*FROM Product', con))\n",
        "        print(pd.read_sql_query('SELECT*FROM Cart', con))\n",
        "        print(pd.read_sql_query('SELECT*FROM Payment', con))\n",
        "        print(pd.read_sql_query('SELECT*FROM Shipping', con))\n",
        "        print(pd.read_sql_query('SELECT*FROM Brand', con))\n",
        "        print(pd.read_sql_query('SELECT*FROM Category', con))\n",
        "        print(pd.read_sql_query('SELECT*FROM Transactions', con))\n",
        "        con.commit()\n",
        "        con.close()\n",
        "        break\n",
        "\n",
        "    sob = int(input(\"Are you here as a customer (0) or a seller (1)?: \"))\n",
        "\n",
        "    # if the user is a seller\n",
        "    if sob == 1:\n",
        "        sid = rd.randint(101000,101999) # seller id\n",
        "        sname = str(input(\"Enter your full name: \"))\n",
        "        snumber = int(input(\"Enter your phone number: \"))\n",
        "        saddress = str(input(\"Enter your address: \"))\n",
        "        c.execute(insertseller,(sid, sname, snumber, saddress))\n",
        "\n",
        "        jualga = int(input(\"Do you want to sell a product on the app? YES(0)/NO(1): \"))\n",
        "        if jualga == 1:\n",
        "            print(\"Thank you for registering as a seller on our app!\")\n",
        "        if jualga == 0:\n",
        "            print(\"Enter the product data you want to sell!\")\n",
        "            pid = rd.randint(303000,303999) # product id\n",
        "            bid = rd.randint(404000,404999) # brand id\n",
        "            # sid\n",
        "            bname = str(input(\"What is the brand name of the product you want to sell?: \"))\n",
        "            catid = rd.randint(505000,505999)\n",
        "            catname = str(input(\"What category does your product fall under?: \"))\n",
        "            pname = str(input(\"What is the name of the product you want to sell?: \"))\n",
        "            pprice = int(input(\"What is the price of your product? (numbers only, e.g. 20000): \"))\n",
        "            c.execute(insertproduct,(pid, bid, sid, pname, pprice))\n",
        "            c.execute(insertbrand,(bid, bname, catid))\n",
        "            c.execute(insertcat,(catid, catname))\n",
        "\n",
        "    # if the user is a customer\n",
        "    if sob == 0:\n",
        "        print(\"Do you want to purchase a product?\")\n",
        "        keputusan = int(input(\"Enter 0 if you do not want to buy anything and 1 if you do: \"))\n",
        "        if keputusan == 0:\n",
        "            print(\"Thank you for viewing products on our app!\")\n",
        "        if keputusan == 1:\n",
        "            cid = rd.randint(202000,202999) # customer id\n",
        "            caid = rd.randint(606000,606999) # cart id\n",
        "            print(\"Please enter your personal details!\")\n",
        "            cname = str(input(\"Enter your full name: \"))\n",
        "            cnumber = int(input(\"Enter your phone number: \"))\n",
        "            cemail = str(input(\"Enter your email address: \"))\n",
        "            cgender = str(input(\"Enter your gender, M/F: \"))\n",
        "            caddress = str(input(\"Enter your shipping address: \"))\n",
        "            c.execute(insertcustomer,(cid, cname, cnumber, cemail, cgender, caddress))\n",
        "\n",
        "            x = 0\n",
        "\n",
        "            jum_prod = int(input(\"Do you want to add a product to the cart? (Yes=0/No=1): \"))\n",
        "            if jum_prod == 0:\n",
        "                banyak = int(input(\"Enter how many products you want to buy!: \"))\n",
        "                while x < banyak:\n",
        "                    print(\"Please enter the details of the product you want to buy\")\n",
        "                    x = x + 1 # number of products\n",
        "                    prodidcar = int(input(\"Enter the product id of the product you want to buy!: \"))\n",
        "                    prodselid = int(input(\"Enter the seller id of the product you want to buy!: \"))\n",
        "                c.execute(insertcart,(caid, cid, prodidcar, x))\n",
        "                print(\"Let's proceed to payment!\")\n",
        "                currentTimeDate = datetime.now() + timedelta(days=1)\n",
        "                currentTime = currentTimeDate.strftime('%Y-%m-%d')\n",
        "\n",
        "                # payment\n",
        "                payid = rd.randint(707000,707999)\n",
        "                shipid = rd.randint(808000,808999)\n",
        "                payam = int(input(\"Enter the total amount of your purchase in Rupiah (e.g. 100000): \"))\n",
        "                paymet = str(input(\"Which payment method would you like to use? (debit, credit, e-wallet): \"))\n",
        "                paydate = date.today()\n",
        "                shipdate = currentTime\n",
        "                paystat = print('Your payment is accepted')\n",
        "                paystatus = \"Accepted\"\n",
        "                pilship = int(input(\"Choose your preferred shipping price and duration, (0) for 5 days at Rp.10,000 or (1) for 1 day at Rp.30,000: \"))\n",
        "                if pilship == 0:\n",
        "                    shipdur = 5\n",
        "                    shippri = 10000\n",
        "                    c.execute(insertpay,(payid, paydate, payam, paymet, prodselid, caid, paystatus))\n",
        "                    c.execute(insertship,(shipid, shipdur, shipdate, shippri, prodselid, cid))\n",
        "                    c.execute(inserttrans,(cid, prodselid, prodidcar, caid, payid, shipid, payam))\n",
        "\n",
        "                if pilship == 1:\n",
        "                    shipdur = 1\n",
        "                    shippri = 30000\n",
        "                    c.execute(insertpay,(payid, paydate, payam, paymet, prodselid, caid, paystatus))\n",
        "                    c.execute(insertship,(shipid, shipdur, shipdate, shippri, prodselid, cid))\n",
        "                    c.execute(inserttrans,(cid, prodselid, prodidcar, caid, payid, shipid, payam))\n",
        "            else:\n",
        "                print(\"Thank you for being part of our app's customers!\")\n"
      ]
    }
  ],
  "metadata": {
    "colab": {
      "provenance": []
    },
    "kernelspec": {
      "display_name": "Python 3",
      "name": "python3"
    },
    "language_info": {
      "name": "python"
    }
  },
  "nbformat": 4,
  "nbformat_minor": 0
}